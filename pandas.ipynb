{
 "cells": [
  {
   "cell_type": "markdown",
   "metadata": {},
   "source": [
    "\n",
    "This is for the PyData Global Demo\n",
    "\n",
    "## Exploratory Analysis\n",
    "\n",
    "One of the main tasks to perform with Pandas is exploratory analysis. Looking at data, finding what is useful or potentially wrong with it so that you can clean it up are core practices of a data scientist and data engineer."
   ]
  },
  {
   "cell_type": "markdown",
   "metadata": {},
   "source": [
    "## Create a Pandas Dataframe \n",
    "Load a CSV to start working with the data and performing exploratory analysis."
   ]
  },
  {
   "cell_type": "code",
   "execution_count": 1,
   "metadata": {},
   "outputs": [],
   "source": [
    "import pandas as pd\n",
    "import matplotlib.pyplot as plt\n",
    "\n",
    "csv_url = \"https://raw.githubusercontent.com/paiml/wine-ratings/main/wine-ratings.csv\"\n",
    "df = pd.read_csv(csv_url, index_col=0)"
   ]
  },
  {
   "cell_type": "code",
   "execution_count": 2,
   "metadata": {},
   "outputs": [
    {
     "data": {
      "text/html": [
       "<div>\n",
       "<style scoped>\n",
       "    .dataframe tbody tr th:only-of-type {\n",
       "        vertical-align: middle;\n",
       "    }\n",
       "\n",
       "    .dataframe tbody tr th {\n",
       "        vertical-align: top;\n",
       "    }\n",
       "\n",
       "    .dataframe thead th {\n",
       "        text-align: right;\n",
       "    }\n",
       "</style>\n",
       "<table border=\"1\" class=\"dataframe\">\n",
       "  <thead>\n",
       "    <tr style=\"text-align: right;\">\n",
       "      <th></th>\n",
       "      <th>name</th>\n",
       "      <th>grape</th>\n",
       "      <th>region</th>\n",
       "      <th>variety</th>\n",
       "      <th>rating</th>\n",
       "      <th>notes</th>\n",
       "    </tr>\n",
       "  </thead>\n",
       "  <tbody>\n",
       "    <tr>\n",
       "      <th>0</th>\n",
       "      <td>1000 Stories Bourbon Barrel Aged Batch Blue Ca...</td>\n",
       "      <td>NaN</td>\n",
       "      <td>Mendocino, California</td>\n",
       "      <td>Red Wine</td>\n",
       "      <td>91.0</td>\n",
       "      <td>This is a very special, limited release of 100...</td>\n",
       "    </tr>\n",
       "    <tr>\n",
       "      <th>1</th>\n",
       "      <td>1000 Stories Bourbon Barrel Aged Gold Rush Red...</td>\n",
       "      <td>NaN</td>\n",
       "      <td>California</td>\n",
       "      <td>Red Wine</td>\n",
       "      <td>89.0</td>\n",
       "      <td>The California Gold Rush was a period of coura...</td>\n",
       "    </tr>\n",
       "    <tr>\n",
       "      <th>2</th>\n",
       "      <td>1000 Stories Bourbon Barrel Aged Gold Rush Red...</td>\n",
       "      <td>NaN</td>\n",
       "      <td>California</td>\n",
       "      <td>Red Wine</td>\n",
       "      <td>90.0</td>\n",
       "      <td>The California Gold Rush was a period of coura...</td>\n",
       "    </tr>\n",
       "    <tr>\n",
       "      <th>3</th>\n",
       "      <td>1000 Stories Bourbon Barrel Aged Zinfandel 2013</td>\n",
       "      <td>NaN</td>\n",
       "      <td>North Coast, California</td>\n",
       "      <td>Red Wine</td>\n",
       "      <td>91.0</td>\n",
       "      <td>The wine has a deep, rich purple color. An int...</td>\n",
       "    </tr>\n",
       "    <tr>\n",
       "      <th>4</th>\n",
       "      <td>1000 Stories Bourbon Barrel Aged Zinfandel 2014</td>\n",
       "      <td>NaN</td>\n",
       "      <td>California</td>\n",
       "      <td>Red Wine</td>\n",
       "      <td>90.0</td>\n",
       "      <td>Batch #004 is the first release of the 2014 vi...</td>\n",
       "    </tr>\n",
       "    <tr>\n",
       "      <th>5</th>\n",
       "      <td>1000 Stories Bourbon Barrel Aged Zinfandel 2016</td>\n",
       "      <td>NaN</td>\n",
       "      <td>California</td>\n",
       "      <td>Red Wine</td>\n",
       "      <td>91.0</td>\n",
       "      <td>1,000 Stories Bourbon barrel-aged Zinfandel is...</td>\n",
       "    </tr>\n",
       "    <tr>\n",
       "      <th>6</th>\n",
       "      <td>1000 Stories Bourbon Barrel Aged Zinfandel 2017</td>\n",
       "      <td>NaN</td>\n",
       "      <td>California</td>\n",
       "      <td>Red Wine</td>\n",
       "      <td>92.0</td>\n",
       "      <td>Batch 55 embodies an opulent vintage, which sa...</td>\n",
       "    </tr>\n",
       "    <tr>\n",
       "      <th>7</th>\n",
       "      <td>12 Linajes Crianza 2014</td>\n",
       "      <td>NaN</td>\n",
       "      <td>Ribera del Duero, Spain</td>\n",
       "      <td>Red Wine</td>\n",
       "      <td>92.0</td>\n",
       "      <td>Red with violet hues. The aromas are very inte...</td>\n",
       "    </tr>\n",
       "    <tr>\n",
       "      <th>8</th>\n",
       "      <td>12 Linajes Reserva 2012</td>\n",
       "      <td>NaN</td>\n",
       "      <td>Ribera del Duero, Spain</td>\n",
       "      <td>Red Wine</td>\n",
       "      <td>94.0</td>\n",
       "      <td>On the nose, a complex predominance of mineral...</td>\n",
       "    </tr>\n",
       "    <tr>\n",
       "      <th>9</th>\n",
       "      <td>14 Hands Cabernet Sauvignon 2010</td>\n",
       "      <td>NaN</td>\n",
       "      <td>Columbia Valley, Washington</td>\n",
       "      <td>Red Wine</td>\n",
       "      <td>87.0</td>\n",
       "      <td>Concentrated aromas of dark stone fruits and t...</td>\n",
       "    </tr>\n",
       "    <tr>\n",
       "      <th>10</th>\n",
       "      <td>14 Hands Cabernet Sauvignon 2011</td>\n",
       "      <td>NaN</td>\n",
       "      <td>Columbia Valley, Washington</td>\n",
       "      <td>Red Wine</td>\n",
       "      <td>89.0</td>\n",
       "      <td>Concentrated aromas of dark stone fruits and t...</td>\n",
       "    </tr>\n",
       "    <tr>\n",
       "      <th>11</th>\n",
       "      <td>14 Hands Cabernet Sauvignon 2015</td>\n",
       "      <td>NaN</td>\n",
       "      <td>Columbia Valley, Washington</td>\n",
       "      <td>Red Wine</td>\n",
       "      <td>89.0</td>\n",
       "      <td>The 14 Hands Cabernet Sauvignon is a rich, jui...</td>\n",
       "    </tr>\n",
       "    <tr>\n",
       "      <th>12</th>\n",
       "      <td>14 Hands Chardonnay 2011</td>\n",
       "      <td>NaN</td>\n",
       "      <td>Washington</td>\n",
       "      <td>White Wine</td>\n",
       "      <td>89.0</td>\n",
       "      <td>This Chardonnay displays aromas and flavors of...</td>\n",
       "    </tr>\n",
       "    <tr>\n",
       "      <th>13</th>\n",
       "      <td>14 Hands Hot to Trot Red Blend 2010</td>\n",
       "      <td>NaN</td>\n",
       "      <td>Washington</td>\n",
       "      <td>Red Wine</td>\n",
       "      <td>88.0</td>\n",
       "      <td>This Washington state red blend opens with gen...</td>\n",
       "    </tr>\n",
       "    <tr>\n",
       "      <th>14</th>\n",
       "      <td>14 Hands Hot to Trot Red Blend 2012</td>\n",
       "      <td>NaN</td>\n",
       "      <td>Washington</td>\n",
       "      <td>Red Wine</td>\n",
       "      <td>88.0</td>\n",
       "      <td>Flavors of ripe red fruit, supported by a fram...</td>\n",
       "    </tr>\n",
       "  </tbody>\n",
       "</table>\n",
       "</div>"
      ],
      "text/plain": [
       "                                                 name  grape  \\\n",
       "0   1000 Stories Bourbon Barrel Aged Batch Blue Ca...    NaN   \n",
       "1   1000 Stories Bourbon Barrel Aged Gold Rush Red...    NaN   \n",
       "2   1000 Stories Bourbon Barrel Aged Gold Rush Red...    NaN   \n",
       "3     1000 Stories Bourbon Barrel Aged Zinfandel 2013    NaN   \n",
       "4     1000 Stories Bourbon Barrel Aged Zinfandel 2014    NaN   \n",
       "5     1000 Stories Bourbon Barrel Aged Zinfandel 2016    NaN   \n",
       "6     1000 Stories Bourbon Barrel Aged Zinfandel 2017    NaN   \n",
       "7                             12 Linajes Crianza 2014    NaN   \n",
       "8                             12 Linajes Reserva 2012    NaN   \n",
       "9                    14 Hands Cabernet Sauvignon 2010    NaN   \n",
       "10                   14 Hands Cabernet Sauvignon 2011    NaN   \n",
       "11                   14 Hands Cabernet Sauvignon 2015    NaN   \n",
       "12                           14 Hands Chardonnay 2011    NaN   \n",
       "13                14 Hands Hot to Trot Red Blend 2010    NaN   \n",
       "14                14 Hands Hot to Trot Red Blend 2012    NaN   \n",
       "\n",
       "                         region     variety  rating  \\\n",
       "0         Mendocino, California    Red Wine    91.0   \n",
       "1                    California    Red Wine    89.0   \n",
       "2                    California    Red Wine    90.0   \n",
       "3       North Coast, California    Red Wine    91.0   \n",
       "4                    California    Red Wine    90.0   \n",
       "5                    California    Red Wine    91.0   \n",
       "6                    California    Red Wine    92.0   \n",
       "7       Ribera del Duero, Spain    Red Wine    92.0   \n",
       "8       Ribera del Duero, Spain    Red Wine    94.0   \n",
       "9   Columbia Valley, Washington    Red Wine    87.0   \n",
       "10  Columbia Valley, Washington    Red Wine    89.0   \n",
       "11  Columbia Valley, Washington    Red Wine    89.0   \n",
       "12                   Washington  White Wine    89.0   \n",
       "13                   Washington    Red Wine    88.0   \n",
       "14                   Washington    Red Wine    88.0   \n",
       "\n",
       "                                                notes  \n",
       "0   This is a very special, limited release of 100...  \n",
       "1   The California Gold Rush was a period of coura...  \n",
       "2   The California Gold Rush was a period of coura...  \n",
       "3   The wine has a deep, rich purple color. An int...  \n",
       "4   Batch #004 is the first release of the 2014 vi...  \n",
       "5   1,000 Stories Bourbon barrel-aged Zinfandel is...  \n",
       "6   Batch 55 embodies an opulent vintage, which sa...  \n",
       "7   Red with violet hues. The aromas are very inte...  \n",
       "8   On the nose, a complex predominance of mineral...  \n",
       "9   Concentrated aromas of dark stone fruits and t...  \n",
       "10  Concentrated aromas of dark stone fruits and t...  \n",
       "11  The 14 Hands Cabernet Sauvignon is a rich, jui...  \n",
       "12  This Chardonnay displays aromas and flavors of...  \n",
       "13  This Washington state red blend opens with gen...  \n",
       "14  Flavors of ripe red fruit, supported by a fram...  "
      ]
     },
     "execution_count": 2,
     "metadata": {},
     "output_type": "execute_result"
    }
   ],
   "source": [
    "df.head(15)"
   ]
  },
  {
   "cell_type": "code",
   "execution_count": 3,
   "metadata": {},
   "outputs": [
    {
     "data": {
      "text/html": [
       "<div>\n",
       "<style scoped>\n",
       "    .dataframe tbody tr th:only-of-type {\n",
       "        vertical-align: middle;\n",
       "    }\n",
       "\n",
       "    .dataframe tbody tr th {\n",
       "        vertical-align: top;\n",
       "    }\n",
       "\n",
       "    .dataframe thead th {\n",
       "        text-align: right;\n",
       "    }\n",
       "</style>\n",
       "<table border=\"1\" class=\"dataframe\">\n",
       "  <thead>\n",
       "    <tr style=\"text-align: right;\">\n",
       "      <th></th>\n",
       "      <th>grape</th>\n",
       "      <th>rating</th>\n",
       "    </tr>\n",
       "  </thead>\n",
       "  <tbody>\n",
       "    <tr>\n",
       "      <th>count</th>\n",
       "      <td>0.0</td>\n",
       "      <td>32780.000000</td>\n",
       "    </tr>\n",
       "    <tr>\n",
       "      <th>mean</th>\n",
       "      <td>NaN</td>\n",
       "      <td>91.186608</td>\n",
       "    </tr>\n",
       "    <tr>\n",
       "      <th>std</th>\n",
       "      <td>NaN</td>\n",
       "      <td>2.190391</td>\n",
       "    </tr>\n",
       "    <tr>\n",
       "      <th>min</th>\n",
       "      <td>NaN</td>\n",
       "      <td>85.000000</td>\n",
       "    </tr>\n",
       "    <tr>\n",
       "      <th>25%</th>\n",
       "      <td>NaN</td>\n",
       "      <td>90.000000</td>\n",
       "    </tr>\n",
       "    <tr>\n",
       "      <th>50%</th>\n",
       "      <td>NaN</td>\n",
       "      <td>91.000000</td>\n",
       "    </tr>\n",
       "    <tr>\n",
       "      <th>75%</th>\n",
       "      <td>NaN</td>\n",
       "      <td>92.000000</td>\n",
       "    </tr>\n",
       "    <tr>\n",
       "      <th>max</th>\n",
       "      <td>NaN</td>\n",
       "      <td>99.000000</td>\n",
       "    </tr>\n",
       "  </tbody>\n",
       "</table>\n",
       "</div>"
      ],
      "text/plain": [
       "       grape        rating\n",
       "count    0.0  32780.000000\n",
       "mean     NaN     91.186608\n",
       "std      NaN      2.190391\n",
       "min      NaN     85.000000\n",
       "25%      NaN     90.000000\n",
       "50%      NaN     91.000000\n",
       "75%      NaN     92.000000\n",
       "max      NaN     99.000000"
      ]
     },
     "execution_count": 3,
     "metadata": {},
     "output_type": "execute_result"
    }
   ],
   "source": [
    "# Now lets get a description of the data\n",
    "df.describe()"
   ]
  },
  {
   "cell_type": "code",
   "execution_count": 4,
   "metadata": {},
   "outputs": [
    {
     "name": "stdout",
     "output_type": "stream",
     "text": [
      "<class 'pandas.core.frame.DataFrame'>\n",
      "Int64Index: 32780 entries, 0 to 32779\n",
      "Data columns (total 6 columns):\n",
      " #   Column   Non-Null Count  Dtype  \n",
      "---  ------   --------------  -----  \n",
      " 0   name     32780 non-null  object \n",
      " 1   grape    0 non-null      float64\n",
      " 2   region   32777 non-null  object \n",
      " 3   variety  32422 non-null  object \n",
      " 4   rating   32780 non-null  float64\n",
      " 5   notes    32780 non-null  object \n",
      "dtypes: float64(2), object(4)\n",
      "memory usage: 1.8+ MB\n"
     ]
    }
   ],
   "source": [
    "# You can also get metadata about the dataset with .info()\n",
    "df.info()"
   ]
  },
  {
   "cell_type": "markdown",
   "metadata": {},
   "source": []
  },
  {
   "cell_type": "code",
   "execution_count": 5,
   "metadata": {},
   "outputs": [
    {
     "data": {
      "text/html": [
       "<div>\n",
       "<style scoped>\n",
       "    .dataframe tbody tr th:only-of-type {\n",
       "        vertical-align: middle;\n",
       "    }\n",
       "\n",
       "    .dataframe tbody tr th {\n",
       "        vertical-align: top;\n",
       "    }\n",
       "\n",
       "    .dataframe thead th {\n",
       "        text-align: right;\n",
       "    }\n",
       "</style>\n",
       "<table border=\"1\" class=\"dataframe\">\n",
       "  <thead>\n",
       "    <tr style=\"text-align: right;\">\n",
       "      <th></th>\n",
       "      <th>name</th>\n",
       "      <th>grape</th>\n",
       "      <th>region</th>\n",
       "      <th>variety</th>\n",
       "      <th>rating</th>\n",
       "      <th>notes</th>\n",
       "    </tr>\n",
       "  </thead>\n",
       "  <tbody>\n",
       "    <tr>\n",
       "      <th>9986</th>\n",
       "      <td>Chateau Angelus (Futures Pre-Sale) 2019</td>\n",
       "      <td>NaN</td>\n",
       "      <td>St. Emilion, Bordeaux, France</td>\n",
       "      <td>Red Wine</td>\n",
       "      <td>99.0</td>\n",
       "      <td>This 2019 vintage, made while the estate was u...</td>\n",
       "    </tr>\n",
       "    <tr>\n",
       "      <th>21597</th>\n",
       "      <td>Espectacle Espectacle del Montsant 2012</td>\n",
       "      <td>NaN</td>\n",
       "      <td>Spain</td>\n",
       "      <td>Red Wine</td>\n",
       "      <td>99.0</td>\n",
       "      <td>Its color is surprisingly intense compared to ...</td>\n",
       "    </tr>\n",
       "    <tr>\n",
       "      <th>12857</th>\n",
       "      <td>Chateau Pavie (1.5 Liter Futures Pre-Sale) 2019</td>\n",
       "      <td>NaN</td>\n",
       "      <td>St. Emilion, Bordeaux, France</td>\n",
       "      <td>Red Wine</td>\n",
       "      <td>99.0</td>\n",
       "      <td>Blend: 50% Merlot, 32% Cabernet Franc, 18% Cab...</td>\n",
       "    </tr>\n",
       "    <tr>\n",
       "      <th>25936</th>\n",
       "      <td>Guigal La Turque Cote Rotie 2010</td>\n",
       "      <td>NaN</td>\n",
       "      <td>Cote Rotie, Rhone, France</td>\n",
       "      <td>Red Wine</td>\n",
       "      <td>99.0</td>\n",
       "      <td>La Turque displays deep ruby red color with da...</td>\n",
       "    </tr>\n",
       "    <tr>\n",
       "      <th>12856</th>\n",
       "      <td>Chateau Pavie (1.5 Liter Futures Pre-Sale) 2018</td>\n",
       "      <td>NaN</td>\n",
       "      <td>St. Emilion, Bordeaux, France</td>\n",
       "      <td>Red Wine</td>\n",
       "      <td>99.0</td>\n",
       "      <td>Blend: 60% Merlot, 22% Cabernet Franc and 18% ...</td>\n",
       "    </tr>\n",
       "  </tbody>\n",
       "</table>\n",
       "</div>"
      ],
      "text/plain": [
       "                                                  name  grape  \\\n",
       "9986           Chateau Angelus (Futures Pre-Sale) 2019    NaN   \n",
       "21597          Espectacle Espectacle del Montsant 2012    NaN   \n",
       "12857  Chateau Pavie (1.5 Liter Futures Pre-Sale) 2019    NaN   \n",
       "25936                 Guigal La Turque Cote Rotie 2010    NaN   \n",
       "12856  Chateau Pavie (1.5 Liter Futures Pre-Sale) 2018    NaN   \n",
       "\n",
       "                              region   variety  rating  \\\n",
       "9986   St. Emilion, Bordeaux, France  Red Wine    99.0   \n",
       "21597                          Spain  Red Wine    99.0   \n",
       "12857  St. Emilion, Bordeaux, France  Red Wine    99.0   \n",
       "25936      Cote Rotie, Rhone, France  Red Wine    99.0   \n",
       "12856  St. Emilion, Bordeaux, France  Red Wine    99.0   \n",
       "\n",
       "                                                   notes  \n",
       "9986   This 2019 vintage, made while the estate was u...  \n",
       "21597  Its color is surprisingly intense compared to ...  \n",
       "12857  Blend: 50% Merlot, 32% Cabernet Franc, 18% Cab...  \n",
       "25936  La Turque displays deep ruby red color with da...  \n",
       "12856  Blend: 60% Merlot, 22% Cabernet Franc and 18% ...  "
      ]
     },
     "execution_count": 5,
     "metadata": {},
     "output_type": "execute_result"
    }
   ],
   "source": [
    "# sort based on some condition\n",
    "df.sort_values(by=\"rating\", ascending=False).head()"
   ]
  },
  {
   "cell_type": "code",
   "execution_count": 6,
   "metadata": {},
   "outputs": [
    {
     "data": {
      "text/html": [
       "<div>\n",
       "<style scoped>\n",
       "    .dataframe tbody tr th:only-of-type {\n",
       "        vertical-align: middle;\n",
       "    }\n",
       "\n",
       "    .dataframe tbody tr th {\n",
       "        vertical-align: top;\n",
       "    }\n",
       "\n",
       "    .dataframe thead th {\n",
       "        text-align: right;\n",
       "    }\n",
       "</style>\n",
       "<table border=\"1\" class=\"dataframe\">\n",
       "  <thead>\n",
       "    <tr style=\"text-align: right;\">\n",
       "      <th></th>\n",
       "      <th>name</th>\n",
       "      <th>region</th>\n",
       "      <th>variety</th>\n",
       "      <th>rating</th>\n",
       "      <th>notes</th>\n",
       "    </tr>\n",
       "  </thead>\n",
       "  <tbody>\n",
       "    <tr>\n",
       "      <th>0</th>\n",
       "      <td>1000 Stories Bourbon Barrel Aged Batch Blue Ca...</td>\n",
       "      <td>Mendocino, California</td>\n",
       "      <td>Red Wine</td>\n",
       "      <td>91.0</td>\n",
       "      <td>This is a very special, limited release of 100...</td>\n",
       "    </tr>\n",
       "    <tr>\n",
       "      <th>1</th>\n",
       "      <td>1000 Stories Bourbon Barrel Aged Gold Rush Red...</td>\n",
       "      <td>California</td>\n",
       "      <td>Red Wine</td>\n",
       "      <td>89.0</td>\n",
       "      <td>The California Gold Rush was a period of coura...</td>\n",
       "    </tr>\n",
       "    <tr>\n",
       "      <th>2</th>\n",
       "      <td>1000 Stories Bourbon Barrel Aged Gold Rush Red...</td>\n",
       "      <td>California</td>\n",
       "      <td>Red Wine</td>\n",
       "      <td>90.0</td>\n",
       "      <td>The California Gold Rush was a period of coura...</td>\n",
       "    </tr>\n",
       "    <tr>\n",
       "      <th>3</th>\n",
       "      <td>1000 Stories Bourbon Barrel Aged Zinfandel 2013</td>\n",
       "      <td>North Coast, California</td>\n",
       "      <td>Red Wine</td>\n",
       "      <td>91.0</td>\n",
       "      <td>The wine has a deep, rich purple color. An int...</td>\n",
       "    </tr>\n",
       "    <tr>\n",
       "      <th>4</th>\n",
       "      <td>1000 Stories Bourbon Barrel Aged Zinfandel 2014</td>\n",
       "      <td>California</td>\n",
       "      <td>Red Wine</td>\n",
       "      <td>90.0</td>\n",
       "      <td>Batch #004 is the first release of the 2014 vi...</td>\n",
       "    </tr>\n",
       "  </tbody>\n",
       "</table>\n",
       "</div>"
      ],
      "text/plain": [
       "                                                name                   region  \\\n",
       "0  1000 Stories Bourbon Barrel Aged Batch Blue Ca...    Mendocino, California   \n",
       "1  1000 Stories Bourbon Barrel Aged Gold Rush Red...               California   \n",
       "2  1000 Stories Bourbon Barrel Aged Gold Rush Red...               California   \n",
       "3    1000 Stories Bourbon Barrel Aged Zinfandel 2013  North Coast, California   \n",
       "4    1000 Stories Bourbon Barrel Aged Zinfandel 2014               California   \n",
       "\n",
       "    variety  rating                                              notes  \n",
       "0  Red Wine    91.0  This is a very special, limited release of 100...  \n",
       "1  Red Wine    89.0  The California Gold Rush was a period of coura...  \n",
       "2  Red Wine    90.0  The California Gold Rush was a period of coura...  \n",
       "3  Red Wine    91.0  The wine has a deep, rich purple color. An int...  \n",
       "4  Red Wine    90.0  Batch #004 is the first release of the 2014 vi...  "
      ]
     },
     "execution_count": 6,
     "metadata": {},
     "output_type": "execute_result"
    }
   ],
   "source": [
    "df.drop('grape', axis=1, inplace=True)\n",
    "df = df.dropna()\n",
    "df.head()"
   ]
  },
  {
   "cell_type": "code",
   "execution_count": 7,
   "metadata": {},
   "outputs": [
    {
     "data": {
      "text/plain": [
       "<AxesSubplot: >"
      ]
     },
     "execution_count": 7,
     "metadata": {},
     "output_type": "execute_result"
    },
    {
     "data": {
      "image/png": "[encoded data removed]",
      "text/plain": [
       "<Figure size 640x480 with 1 Axes>"
      ]
     },
     "metadata": {},
     "output_type": "display_data"
    }
   ],
   "source": [
    "df['rating'] = df['rating'].apply(lambda x: int(x))\n",
    "df.plot()\n"
   ]
  },
  {
   "cell_type": "code",
   "execution_count": 8,
   "metadata": {},
   "outputs": [
    {
     "name": "stderr",
     "output_type": "stream",
     "text": [
      "/tmp/ipykernel_7314/2434719872.py:1: FutureWarning: The default value of numeric_only in DataFrameGroupBy.mean is deprecated. In a future version, numeric_only will default to False. Either specify numeric_only or select only columns which should be valid for the function.\n",
      "  df.groupby(\"variety\").mean().plot(kind=\"bar\")\n"
     ]
    },
    {
     "data": {
      "text/plain": [
       "<AxesSubplot: xlabel='variety'>"
      ]
     },
     "execution_count": 8,
     "metadata": {},
     "output_type": "execute_result"
    },
    {
     "data": {
      "image/png": "[encoded data removed]",
      "text/plain": [
       "<Figure size 640x480 with 1 Axes>"
      ]
     },
     "metadata": {},
     "output_type": "display_data"
    }
   ],
   "source": [
    "\n",
    "df.groupby(\"variety\").mean().plot(kind=\"bar\")"
   ]
  },
  {
   "cell_type": "code",
   "execution_count": 9,
   "metadata": {},
   "outputs": [
    {
     "data": {
      "text/plain": [
       "<AxesSubplot: xlabel='variety', ylabel='rating'>"
      ]
     },
     "execution_count": 9,
     "metadata": {},
     "output_type": "execute_result"
    },
    {
     "data": {
      "image/png": "[encoded data removed]",
      "text/plain": [
       "<Figure size 640x480 with 1 Axes>"
      ]
     },
     "metadata": {},
     "output_type": "display_data"
    }
   ],
   "source": [
    "\n",
    "df.plot.scatter(x=\"variety\", y=\"rating\", alpha=0.5,  rot=90)\n",
    "\n"
   ]
  },
  {
   "cell_type": "code",
   "execution_count": 10,
   "metadata": {},
   "outputs": [
    {
     "data": {
      "image/png": "[encoded data removed]",
      "text/plain": [
       "<Figure size 800x800 with 1 Axes>"
      ]
     },
     "metadata": {},
     "output_type": "display_data"
    }
   ],
   "source": [
    "df.hist(figsize=(8,8));\n"
   ]
  },
  {
   "cell_type": "code",
   "execution_count": null,
   "metadata": {},
   "outputs": [],
   "source": []
  }
 ],
 "metadata": {
  "kernelspec": {
   "display_name": "Python 3.10.4 64-bit",
   "language": "python",
   "name": "python3"
  },
  "language_info": {
   "codemirror_mode": {
    "name": "ipython",
    "version": 3
   },
   "file_extension": ".py",
   "mimetype": "text/x-python",
   "name": "python",
   "nbconvert_exporter": "python",
   "pygments_lexer": "ipython3",
   "version": "3.10.4"
  },
  "orig_nbformat": 4,
  "vscode": {
   "interpreter": {
    "hash": "3ad933181bd8a04b432d3370b9dc3b0662ad032c4dfaa4e4f1596c548f763858"
   }
  }
 },
 "nbformat": 4,
 "nbformat_minor": 2
}
